{
 "cells": [
  {
   "cell_type": "markdown",
   "metadata": {},
   "source": [
    "# Horizontal Equilibrium"
   ]
  },
  {
   "cell_type": "code",
   "execution_count": 7,
   "metadata": {},
   "outputs": [],
   "source": [
    "import compas\n",
    "import pathlib\n",
    "from compas.colors import Color\n",
    "from compas_notebook.viewer import Viewer\n",
    "from compas_tna.diagrams import FormDiagram\n",
    "from compas_tna.diagrams import ForceDiagram\n",
    "from compas_tna.equilibrium import horizontal_nodal"
   ]
  },
  {
   "cell_type": "markdown",
   "metadata": {},
   "source": [
    "## Session data"
   ]
  },
  {
   "cell_type": "code",
   "execution_count": 8,
   "metadata": {},
   "outputs": [],
   "source": [
    "filepath = pathlib.Path('~/Code/compas_tna/notebooks/session.json').expanduser()\n",
    "\n",
    "session = compas.json_load(filepath)"
   ]
  },
  {
   "cell_type": "markdown",
   "metadata": {},
   "source": [
    "## Load Form and ForceDiagram"
   ]
  },
  {
   "cell_type": "code",
   "execution_count": 9,
   "metadata": {},
   "outputs": [],
   "source": [
    "form: FormDiagram = session['formdiagram']\n",
    "force: ForceDiagram = session['forcediagram']"
   ]
  },
  {
   "cell_type": "markdown",
   "metadata": {},
   "source": [
    "## Compute horizontal equilibrium"
   ]
  },
  {
   "cell_type": "code",
   "execution_count": 10,
   "metadata": {},
   "outputs": [],
   "source": [
    "horizontal_nodal(form, force, kmax=100)"
   ]
  },
  {
   "cell_type": "markdown",
   "metadata": {},
   "source": [
    "## Export new session data"
   ]
  },
  {
   "cell_type": "code",
   "execution_count": 11,
   "metadata": {},
   "outputs": [],
   "source": [
    "compas.json_dump(session, filepath)"
   ]
  },
  {
   "cell_type": "markdown",
   "metadata": {},
   "source": [
    "## Visualisation"
   ]
  },
  {
   "cell_type": "code",
   "execution_count": 12,
   "metadata": {},
   "outputs": [
    {
     "data": {
      "application/vnd.jupyter.widget-view+json": {
       "model_id": "d350164354704bc9b7094b98adb18f49",
       "version_major": 2,
       "version_minor": 0
      },
      "text/plain": [
       "VBox(children=(HBox(children=(Button(icon='folder-open', layout=Layout(height='32px', width='48px'), style=But…"
      ]
     },
     "metadata": {},
     "output_type": "display_data"
    }
   ],
   "source": [
    "viewer = Viewer()\n",
    "viewer.scene.add(\n",
    "    form,\n",
    "    color=Color.from_hex('#cccccc'),\n",
    "    show_faces=list(form.faces_where(_is_loaded=True)),\n",
    "    show_edges=list(form.edges_where(_is_edge=True)),\n",
    "    show_vertices=list(form.vertices_where(is_anchor=True)),\n",
    "    vertexsize=0.3\n",
    ")\n",
    "viewer.scene.add(\n",
    "    force.translated([0.5 * form.aabb().xsize + 0.5 * force.aabb().xsize, 0, 0]),\n",
    "    show_faces=False\n",
    ")\n",
    "viewer.show()"
   ]
  }
 ],
 "metadata": {
  "kernelspec": {
   "display_name": "compas-dev",
   "language": "python",
   "name": "python3"
  },
  "language_info": {
   "codemirror_mode": {
    "name": "ipython",
    "version": 3
   },
   "file_extension": ".py",
   "mimetype": "text/x-python",
   "name": "python",
   "nbconvert_exporter": "python",
   "pygments_lexer": "ipython3",
   "version": "3.9.10"
  }
 },
 "nbformat": 4,
 "nbformat_minor": 2
}
