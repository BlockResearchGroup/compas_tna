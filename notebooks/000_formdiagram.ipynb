{
    "cells": [
        {
            "cell_type": "markdown",
            "metadata": {},
            "source": [
                "# FormDiagram\n",
                "\n",
                "In this first part of the tutorial, we will set up the FormDiagram.\n",
                "We will create the geometry from a `meshgrid`, identify the supports, relax the unsupported boundaries, and, finally, update the boundary conditions needed for the TNA solver.\n",
                "\n",
                "First, the relevant imports."
            ]
        },
        {
            "cell_type": "code",
            "execution_count": 1,
            "metadata": {},
            "outputs": [],
            "source": [
                "import pathlib\n",
                "\n",
                "from compas_notebook.viewer import Viewer\n",
                "\n",
                "import compas\n",
                "from compas_tna.diagrams import FormDiagram\n",
                "from compas_tna.equilibrium import relax_boundary_openings\n"
            ]
        },
        {
            "cell_type": "markdown",
            "metadata": {},
            "source": [
                "## Create a FormDiagram from a meshgrid\n",
                "\n",
                "Creating a diagram from a grid is super easy.\n",
                "Just set the dimensions in x and y, and specify the number of grid cells in each directions.\n",
                "If the grid is symmetrical, you only have to specify the properties in the x direction..."
            ]
        },
        {
            "cell_type": "code",
            "execution_count": 2,
            "metadata": {},
            "outputs": [],
            "source": [
                "form: FormDiagram = FormDiagram.from_meshgrid(dx=10, nx=10)  # type: ignore"
            ]
        },
        {
            "cell_type": "markdown",
            "metadata": {},
            "source": [
                "## Identify the supports\n",
                "\n",
                "The corner vertices of the meshgrid are going to be the supports of the vault.\n",
                "In a quadrilateral grid, like the meshgrid, the vertices in the corners have `degree == 2`."
            ]
        },
        {
            "cell_type": "code",
            "execution_count": 3,
            "metadata": {},
            "outputs": [],
            "source": [
                "corners: list[int] = list(form.vertices_where(vertex_degree=2))  # type: ignore\n",
                "form.vertices_attribute(\"is_support\", True, keys=corners)"
            ]
        },
        {
            "cell_type": "markdown",
            "metadata": {},
            "source": [
                "## Unsupported boundaries\n",
                "\n",
                "Next, we relax the unsupported boundaries in between the supports to give them an initial curvature that will allow them to resist the outward thrusting forces coming from the inner part of the vault, and guide them to the supports."
            ]
        },
        {
            "cell_type": "code",
            "execution_count": 4,
            "metadata": {},
            "outputs": [
                {
                    "data": {
                        "text/plain": [
                            "<compas_tna.diagrams.formdiagram.FormDiagram at 0x10341f220>"
                        ]
                    },
                    "execution_count": 4,
                    "metadata": {},
                    "output_type": "execute_result"
                }
            ],
            "source": [
                "form.edges_attribute(\"q\", 10.0, keys=form.edges_on_boundary())\n",
                "relax_boundary_openings(form, corners)"
            ]
        },
        {
            "cell_type": "markdown",
            "metadata": {},
            "source": [
                "## Boundary conditions\n",
                "\n",
                "Finally, we update the boundary conditions of the diagram to make it ready for TNA-based form finding."
            ]
        },
        {
            "cell_type": "code",
            "execution_count": 5,
            "metadata": {},
            "outputs": [],
            "source": [
                "form.update_boundaries()"
            ]
        },
        {
            "cell_type": "markdown",
            "metadata": {},
            "source": [
                "## Export\n",
                "\n",
                "Before visualising the result, we will export the FormDiagram in a form finding session, so it can be used as a starting point for the following steps in the process.\n",
                "\n",
                "Note that there is no reliable way to identify the parent folder of the current notebook programmatically.\n",
                "Therefore, the filepath below is hard-coded.\n",
                "You should update it to whatever makes sense on your system."
            ]
        },
        {
            "cell_type": "code",
            "execution_count": null,
            "metadata": {},
            "outputs": [],
            "source": [
                "session = {\"formdiagram\": form, \"forcediagram\": None}\n",
                "filepath = pathlib.Path().cwd() / \"session.json\"\n",
                "\n",
                "compas.json_dump(session, filepath)"
            ]
        },
        {
            "cell_type": "markdown",
            "metadata": {},
            "source": [
                "## Visualisation"
            ]
        },
        {
            "cell_type": "code",
            "execution_count": 7,
            "metadata": {},
            "outputs": [
                {
                    "data": {
                        "application/vnd.jupyter.widget-view+json": {
                            "model_id": "157bdc5222754b7bb64cc9434c54ba5a",
                            "version_major": 2,
                            "version_minor": 0
                        },
                        "text/plain": [
                            "VBox(children=(HBox(children=(Button(icon='search-plus', layout=Layout(height='32px', width='48px'), style=But…"
                        ]
                    },
                    "metadata": {},
                    "output_type": "display_data"
                }
            ],
            "source": [
                "viewer = Viewer()\n",
                "viewer.scene.add(form)\n",
                "viewer.show()"
            ]
        },
        {
            "cell_type": "code",
            "execution_count": null,
            "metadata": {},
            "outputs": [],
            "source": []
        }
    ],
    "metadata": {
        "kernelspec": {
            "display_name": "masonry",
            "language": "python",
            "name": "python3"
        },
        "language_info": {
            "codemirror_mode": {
                "name": "ipython",
                "version": 3
            },
            "file_extension": ".py",
            "mimetype": "text/x-python",
            "name": "python",
            "nbconvert_exporter": "python",
            "pygments_lexer": "ipython3",
            "version": "3.10.14"
        }
    },
    "nbformat": 4,
    "nbformat_minor": 2
}
