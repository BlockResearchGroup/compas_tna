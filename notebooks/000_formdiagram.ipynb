{
 "cells": [
  {
   "cell_type": "markdown",
   "metadata": {},
   "source": [
    "# FormDiagram\n",
    "\n",
    "In this first part of the tutorial, we will set up the FormDiagram.\n",
    "We will create the geometry from a `meshgrid`, identify the supports, relax the unsupported boundaries, and, finally, update the boundary conditions needed for the TNA solver.\n",
    "\n",
    "First, the relevant imports."
   ]
  },
  {
   "cell_type": "code",
   "execution_count": 20,
   "metadata": {},
   "outputs": [],
   "source": [
    "import compas\n",
    "import pathlib\n",
    "from compas_tna.diagrams import FormDiagram\n",
    "from compas_tna.equilibrium import relax_boundary_openings\n",
    "\n",
    "# for visualisation of the result\n",
    "from compas.colors import Color\n",
    "from compas_notebook.viewer import Viewer"
   ]
  },
  {
   "cell_type": "markdown",
   "metadata": {},
   "source": [
    "## Create a FormDiagram from a meshgrid\n",
    "\n",
    "Creating a diagram from a grid is super easy.\n",
    "Just set the dimensions in x and y, and specify the number of grid cells in each directions.\n",
    "If the grid is symmetrical, you only have to specify the properties in the x direction..."
   ]
  },
  {
   "cell_type": "code",
   "execution_count": 14,
   "metadata": {},
   "outputs": [],
   "source": [
    "form = FormDiagram.from_meshgrid(dx=10, nx=10)"
   ]
  },
  {
   "cell_type": "markdown",
   "metadata": {},
   "source": [
    "## Identify the supports\n",
    "\n",
    "The corner vertices of the meshgrid are going to be the supports of the vault.\n",
    "In a quadrilateral grid, like the meshgrid, the vertices in the corners have `degree == 2`."
   ]
  },
  {
   "cell_type": "code",
   "execution_count": 15,
   "metadata": {},
   "outputs": [],
   "source": [
    "corners = list(form.vertices_where(vertex_degree=2))\n",
    "form.vertices_attribute(\"is_anchor\", True, keys=corners)"
   ]
  },
  {
   "cell_type": "markdown",
   "metadata": {},
   "source": [
    "## Unsupported boundaries\n",
    "\n",
    "Next, we relax the unsupported boundaries in between the supports to give them an initial curvature that will allow them to resist the outward thrusting forces coming from the inner part of the vault, and guide them to the supports."
   ]
  },
  {
   "cell_type": "code",
   "execution_count": 16,
   "metadata": {},
   "outputs": [],
   "source": [
    "%%capture\n",
    "\n",
    "form.edges_attribute(\"q\", 10.0, keys=form.edges_on_boundary())\n",
    "relax_boundary_openings(form, corners)"
   ]
  },
  {
   "cell_type": "markdown",
   "metadata": {},
   "source": [
    "## Boundary conditions\n",
    "\n",
    "Finally, we update the boundary conditions of the diagram to make it ready for TNA-based form finding."
   ]
  },
  {
   "cell_type": "code",
   "execution_count": 17,
   "metadata": {},
   "outputs": [],
   "source": [
    "form.update_boundaries()"
   ]
  },
  {
   "cell_type": "markdown",
   "metadata": {},
   "source": [
    "## Export\n",
    "\n",
    "Before visualising the result, we will export the FormDiagram in a form finding session, so it can be used as a starting point for the following steps in the process.\n",
    "\n",
    "Note that there is no reliable way to identify the parent folder of the current notebook programmatically.\n",
    "Therefore, the filepath below is hard-coded.\n",
    "You should update it to whatever makes sense on your system."
   ]
  },
  {
   "cell_type": "code",
   "execution_count": 21,
   "metadata": {},
   "outputs": [],
   "source": [
    "session = {'formdiagram': form, 'forcediagram': None}\n",
    "filepath = pathlib.Path('~/Code/compas_tna/notebooks/session.json').expanduser()\n",
    "\n",
    "compas.json_dump(session, filepath)"
   ]
  },
  {
   "cell_type": "markdown",
   "metadata": {},
   "source": [
    "## Visualisation\n",
    "\n",
    "When updating the boundary conditions, some edges are marked as `_is_loaded=False` and some edges as `_is_edge=False`.\n",
    "This is because these faces and edges are needed for the correct topological structure of the FormDiagram mesh, but have to be excluded from the equilibrium calculations. (Note that the lading underscore on both attribute names indicates that these attributes should not be modified by the user, in most use cases.)\n",
    "\n",
    "This needs to be taken into account during visualisation..."
   ]
  },
  {
   "cell_type": "code",
   "execution_count": 18,
   "metadata": {},
   "outputs": [
    {
     "data": {
      "application/vnd.jupyter.widget-view+json": {
       "model_id": "666b503b08204d5f872be9b3f57b667b",
       "version_major": 2,
       "version_minor": 0
      },
      "text/plain": [
       "VBox(children=(HBox(children=(Button(icon='folder-open', layout=Layout(height='32px', width='48px'), style=But…"
      ]
     },
     "metadata": {},
     "output_type": "display_data"
    }
   ],
   "source": [
    "viewer = Viewer()\n",
    "viewer.scene.add(\n",
    "    form,\n",
    "    color=Color.from_hex('#cccccc'),\n",
    "    show_faces=list(form.faces_where(_is_loaded=True)),\n",
    "    show_edges=list(form.edges_where(_is_edge=True)),\n",
    "    show_vertices=list(form.vertices_where(is_anchor=True))\n",
    ")\n",
    "viewer.show()"
   ]
  }
 ],
 "metadata": {
  "kernelspec": {
   "display_name": "compas-dev",
   "language": "python",
   "name": "python3"
  },
  "language_info": {
   "codemirror_mode": {
    "name": "ipython",
    "version": 3
   },
   "file_extension": ".py",
   "mimetype": "text/x-python",
   "name": "python",
   "nbconvert_exporter": "python",
   "pygments_lexer": "ipython3",
   "version": "3.9.10"
  }
 },
 "nbformat": 4,
 "nbformat_minor": 2
}
